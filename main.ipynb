{
 "cells": [
  {
   "cell_type": "code",
   "execution_count": 32,
   "metadata": {},
   "outputs": [
    {
     "name": "stdout",
     "output_type": "stream",
     "text": [
      "Election Results\n",
      "--------------------------\n",
      "Total Votes: 369711\n",
      "--------------------------\n",
      "Charles Casper Stockham: 23.000% (85213)\n",
      "Diana DeGette: 74.000% (272892)\n",
      "Raymon Anthony Doane: 3.000% (11606)\n",
      "--------------------------\n",
      "Winner: Diana DeGette\n",
      "--------------------------\n"
     ]
    },
    {
     "data": {
      "text/plain": [
       "76"
      ]
     },
     "execution_count": 32,
     "metadata": {},
     "output_type": "execute_result"
    }
   ],
   "source": [
    "import os\n",
    "import csv\n",
    "\n",
    "election_data = os.path.join(\"election_data.csv\")\n",
    "\n",
    "candidates = []\n",
    "\n",
    "num_votes = []\n",
    "\n",
    "percent_votes = []\n",
    "\n",
    "total_votes = 0\n",
    "\n",
    "with open(election_data, newline = \"\") as csvfile:\n",
    "    csvreader = csv.reader(csvfile, delimiter = \",\")\n",
    "    csv_header = next(csvreader)\n",
    "\n",
    "    for row in csvreader:\n",
    "        total_votes += 1 \n",
    "\n",
    "        '''\n",
    "        If the candidate is not on our list, add his/her name to our list, along with \n",
    "        a vote in his/her name.\n",
    "        If he/she is already on our list, we will simply add a vote in his/her\n",
    "        name \n",
    "        '''\n",
    "        if row[2] not in candidates:\n",
    "            candidates.append(row[2])\n",
    "            index = candidates.index(row[2])\n",
    "            num_votes.append(1)\n",
    "        else:\n",
    "            index = candidates.index(row[2])\n",
    "            num_votes[index] += 1\n",
    "    \n",
    "    for votes in num_votes:\n",
    "        percentage = (votes/total_votes) * 100\n",
    "        percentage = round(percentage)\n",
    "        percentage = \"%.3f%%\" % percentage\n",
    "        percent_votes.append(percentage)\n",
    "    \n",
    "    winner = max(num_votes)\n",
    "    index = num_votes.index(winner)\n",
    "    winning_candidate = candidates[index]\n",
    "\n",
    "print(\"Election Results\")\n",
    "print(\"--------------------------\")\n",
    "print(f\"Total Votes: {str(total_votes)}\")\n",
    "print(\"--------------------------\")\n",
    "for i in range(len(candidates)):\n",
    "    print(f\"{candidates[i]}: {str(percent_votes[i])} ({str(num_votes[i])})\")\n",
    "print(\"--------------------------\")\n",
    "print(f\"Winner: {winning_candidate}\")\n",
    "print(\"--------------------------\")\n",
    "\n",
    "output = open(\"PyPolloutput.txt\", \"w\")\n",
    "line1 = \"Election Results\"\n",
    "line2 = \"--------------------------\"\n",
    "line3 = str(f\"Total Votes: {str(total_votes)}\")\n",
    "line4 = str(\"--------------------------\")\n",
    "output.write('{}\\n{}\\n{}\\n{}\\n'.format(line1, line2, line3, line4))\n",
    "for i in range(len(candidates)):\n",
    "    line = str(f\"{candidates[i]}: {str(percent_votes[i])} ({str(num_votes[i])})\")\n",
    "    output.write('{}\\n'.format(line))\n",
    "line5 = \"--------------------------\"\n",
    "line6 = str(f\"Winner: {winning_candidate}\")\n",
    "line7 = \"--------------------------\"\n",
    "output.write('{}\\n{}\\n{}\\n'.format(line5, line6, line7))"
   ]
  }
 ],
 "metadata": {
  "kernelspec": {
   "display_name": "Python 3",
   "language": "python",
   "name": "python3"
  },
  "language_info": {
   "codemirror_mode": {
    "name": "ipython",
    "version": 3
   },
   "file_extension": ".py",
   "mimetype": "text/x-python",
   "name": "python",
   "nbconvert_exporter": "python",
   "pygments_lexer": "ipython3",
   "version": "3.11.5"
  },
  "orig_nbformat": 4
 },
 "nbformat": 4,
 "nbformat_minor": 2
}
